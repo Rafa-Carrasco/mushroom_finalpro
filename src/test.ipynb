{
 "cells": [
  {
   "cell_type": "code",
   "execution_count": 2,
   "metadata": {},
   "outputs": [],
   "source": [
    "\n",
    "import pandas as pd\n",
    "import seaborn as sns\n",
    "import matplotlib.pyplot as plt\n",
    "from sklearn.metrics import accuracy_score, classification_report, confusion_matrix\n",
    "from pickle import load\n",
    "import json\n",
    "from sklearn.preprocessing import LabelEncoder\n",
    "\n",
    "\n",
    "model = load(open(\"../models/decision_tree_classifier_default_42.sav\", \"rb\"))\n",
    "class_dict = {\n",
    "    \"0\": \"No Comestible\",\n",
    "    \"1\": \"comestible\"\n",
    "}\n",
    "\n",
    "# cargar data original para sacar categorias de variables\n",
    "data = pd.read_csv('../data/processed/test_data.csv') \n"
   ]
  },
  {
   "cell_type": "markdown",
   "metadata": {},
   "source": [
    "el encoding de las variabloes categoricas está en explore.ipynb en la celda 16 (aunque dice 42 por alguna razon)"
   ]
  },
  {
   "cell_type": "code",
   "execution_count": 18,
   "metadata": {},
   "outputs": [
    {
     "name": "stdout",
     "output_type": "stream",
     "text": [
      "['b', 'c', 'f', 'o', 'p', 's', 'x']\n"
     ]
    }
   ],
   "source": [
    "# # Leer los mapeos desde el archivo .txt\n",
    "# with open('label_encoders.txt', 'r') as file:\n",
    "#     label_mappings = json.load(file)\n",
    "\n",
    "with open('label_encoders.json', 'r') as file:\n",
    "    label_mappings = json.load(file)\n",
    "\n",
    "# Reconstruir los LabelEncoders\n",
    "label_encoders = {}\n",
    "for column, mapping in label_mappings.items():\n",
    "    encoder = LabelEncoder()\n",
    "    encoder.classes_ = mapping['classes']\n",
    "    label_encoders[column] = encoder\n",
    "\n",
    "# Crear una función para obtener categorías únicas\n",
    "def get_unique_values(column):\n",
    "    return data[column].unique().tolist()\n",
    "\n",
    "print(label_encoders['cap-shape'].classes_)"
   ]
  },
  {
   "cell_type": "code",
   "execution_count": 10,
   "metadata": {},
   "outputs": [
    {
     "name": "stdout",
     "output_type": "stream",
     "text": [
      "[0.6666666666666666, 1.0, 0.3333333333333333, 0.1666666666666666, 0.8333333333333333, 0.0, 0.5]\n"
     ]
    }
   ],
   "source": [
    "cap_shape = get_unique_values(\"cap-shape\")\n",
    "print(cap_shape)"
   ]
  },
  {
   "cell_type": "code",
   "execution_count": 25,
   "metadata": {},
   "outputs": [
    {
     "name": "stdout",
     "output_type": "stream",
     "text": [
      "Error transforming cap_shape: [0.6666666666666666, 1.0, 0.3333333333333333, 0.1666666666666666, 0.8333333333333333, 0.0, 0.5]\n",
      "Known classes: ['b', 'c', 'f', 'o', 'p', 's', 'x']\n",
      "Error: 'list' object has no attribute 'dtype'\n"
     ]
    }
   ],
   "source": [
    "try:\n",
    "    cap_shape_enc = label_encoders['cap-shape'].transform([cap_shape])[0]\n",
    "    \n",
    "except Exception as e:\n",
    "    print(f\"Error transforming cap_shape: {cap_shape}\")\n",
    "    print(f\"Known classes: {label_encoders['cap-shape'].classes_}\")\n",
    "    print(f\"Error: {str(e)}\")"
   ]
  }
 ],
 "metadata": {
  "kernelspec": {
   "display_name": "Python 3",
   "language": "python",
   "name": "python3"
  },
  "language_info": {
   "codemirror_mode": {
    "name": "ipython",
    "version": 3
   },
   "file_extension": ".py",
   "mimetype": "text/x-python",
   "name": "python",
   "nbconvert_exporter": "python",
   "pygments_lexer": "ipython3",
   "version": "3.10.12"
  }
 },
 "nbformat": 4,
 "nbformat_minor": 2
}
